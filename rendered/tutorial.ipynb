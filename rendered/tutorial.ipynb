{
 "cells": [
  {
   "cell_type": "code",
   "execution_count": null,
   "metadata": {},
   "outputs": [
    {
     "ename": "",
     "evalue": "",
     "output_type": "error",
     "traceback": [
      "\u001b[1;31mFailed to start the Kernel. \n",
      "\u001b[1;31mView Jupyter <a href='command:jupyter.viewOutput'>log</a> for further details."
     ]
    }
   ],
   "source": [
    "using ResumableFunctions, ConcurrentSim, Plots, Statistics, Distributions"
   ]
  },
  {
   "cell_type": "markdown",
   "metadata": {},
   "source": [
    "# Scheduling events and setting callbacks"
   ]
  },
  {
   "cell_type": "markdown",
   "metadata": {},
   "source": [
    "There is a central Simulation object that tracks the timeline"
   ]
  },
  {
   "cell_type": "code",
   "execution_count": null,
   "metadata": {},
   "outputs": [],
   "source": [
    "sim = Simulation()"
   ]
  },
  {
   "cell_type": "markdown",
   "metadata": {},
   "source": [
    "Now we define an event that we want to put on that timeline"
   ]
  },
  {
   "cell_type": "code",
   "execution_count": null,
   "metadata": {},
   "outputs": [],
   "source": [
    "my_evt = Event(sim)"
   ]
  },
  {
   "cell_type": "markdown",
   "metadata": {},
   "source": [
    "Right now the event is not scheduled yet, so it has the state \"idle\""
   ]
  },
  {
   "cell_type": "code",
   "execution_count": null,
   "metadata": {},
   "outputs": [],
   "source": [
    "state(my_evt)"
   ]
  },
  {
   "cell_type": "markdown",
   "metadata": {},
   "source": [
    "Now we schedule the event to take place at our favorite time!"
   ]
  },
  {
   "cell_type": "code",
   "execution_count": null,
   "metadata": {},
   "outputs": [],
   "source": [
    "ConcurrentSim.schedule(my_evt, 42)"
   ]
  },
  {
   "cell_type": "markdown",
   "metadata": {},
   "source": [
    "This changes the state of the event to \"scheduled\""
   ]
  },
  {
   "cell_type": "code",
   "execution_count": null,
   "metadata": {},
   "outputs": [],
   "source": [
    "state(my_evt)"
   ]
  },
  {
   "cell_type": "markdown",
   "metadata": {},
   "source": [
    "To actually do something when the event happens, we need to set callback functions.\n",
    "A callback function should always take the event that triggers it as an argument."
   ]
  },
  {
   "cell_type": "code",
   "execution_count": null,
   "metadata": {},
   "outputs": [],
   "source": [
    "f1(evt) = println(\"The meaning of life is...\")\n",
    "f2(evt) = println(\"... $(now(environment(evt)))\")"
   ]
  },
  {
   "cell_type": "markdown",
   "metadata": {},
   "source": [
    "Functions are registered as callbacks to events using the @callback macro."
   ]
  },
  {
   "cell_type": "code",
   "execution_count": null,
   "metadata": {},
   "outputs": [],
   "source": [
    "@callback f1(my_evt)\n",
    "@callback f2(my_evt)"
   ]
  },
  {
   "cell_type": "markdown",
   "metadata": {},
   "source": [
    "Now we run the simulation!"
   ]
  },
  {
   "cell_type": "code",
   "execution_count": null,
   "metadata": {},
   "outputs": [],
   "source": [
    "run(sim)"
   ]
  },
  {
   "cell_type": "markdown",
   "metadata": {},
   "source": [
    "The status of the event has now changed to \"processed\", as it is in the past now"
   ]
  },
  {
   "cell_type": "code",
   "execution_count": null,
   "metadata": {},
   "outputs": [],
   "source": [
    "state(my_evt)"
   ]
  },
  {
   "cell_type": "markdown",
   "metadata": {},
   "source": [
    "# Processes\n",
    "Scheduling events and registering callbacks by hand is not the typical worksflow.\n",
    "It is more idiomatic and more convenient to use \"processes\" that schedule events,\n",
    "wait for events, and then do something.\n",
    "Let'´s rewrite the above example using a process!"
   ]
  },
  {
   "cell_type": "markdown",
   "metadata": {},
   "source": [
    "The \"blueprint\" for a process is written as a function with the @resumable macro\n",
    "in front (this uses the ResumableFunctions.jl package).\n",
    "It is basically a set of instructions."
   ]
  },
  {
   "cell_type": "code",
   "execution_count": null,
   "metadata": {},
   "outputs": [],
   "source": [
    "@resumable function meaning_of_life(env::Environment)\n",
    "    my_evt = timeout(env, 42)  # creates an event 42 time units in the future\n",
    "    @yield my_evt  # waiting for events is done using the @yield macro.\n",
    "    f1(my_evt); f2(my_evt)\n",
    "end"
   ]
  },
  {
   "cell_type": "markdown",
   "metadata": {},
   "source": [
    "Now instantiate a process from this blueprint using the @process macro."
   ]
  },
  {
   "cell_type": "code",
   "execution_count": null,
   "metadata": {},
   "outputs": [],
   "source": [
    "sim = Simulation()\n",
    "process = @process meaning_of_life(sim)"
   ]
  },
  {
   "cell_type": "markdown",
   "metadata": {},
   "source": [
    "Run the simulation"
   ]
  },
  {
   "cell_type": "code",
   "execution_count": null,
   "metadata": {},
   "outputs": [],
   "source": [
    "run(sim)"
   ]
  },
  {
   "cell_type": "markdown",
   "metadata": {},
   "source": [
    "# We can also wait for multiple events at once!"
   ]
  },
  {
   "cell_type": "code",
   "execution_count": null,
   "metadata": {},
   "outputs": [],
   "source": [
    "@resumable function wait_for_multiple_events(env::Environment)\n",
    "    event_1 = timeout(env, 10)\n",
    "    event_2 = timeout(env, 20)\n",
    "    @yield event_1 | event_2  # wait for either to be done\n",
    "    println(\"time: $(now(env))\")\n",
    "    event_1 = timeout(env, 100)\n",
    "    event_2 = timeout(env, 200)\n",
    "    @yield event_1 & event_2  # wait for all to be done\n",
    "    println(\"time: $(now(env))\")\n",
    "    event_1 = timeout(env, 1000)\n",
    "    event_2 = timeout(env, 2000)\n",
    "    event_3 = timeout(env, 3000)\n",
    "    @yield AnyOf(event_1, event_2, event_3)\n",
    "    println(\"time: $(now(env))\")\n",
    "    event_1 = timeout(env, 10000)\n",
    "    event_2 = timeout(env, 20000)\n",
    "    event_3 = timeout(env, 30000)\n",
    "    @yield AllOf(event_1, event_2, event_3)\n",
    "    println(\"time: $(now(env))\")\n",
    "end\n",
    "\n",
    "sim = Simulation()\n",
    "@process wait_for_multiple_events(sim)\n",
    "run(sim)"
   ]
  },
  {
   "cell_type": "markdown",
   "metadata": {},
   "source": [
    "# Computing time and matrix time\n",
    "Some nice things about discrete-event simulation versus real-time simulation include:\n",
    "- The computing time does not depend on how much time passes in the simulation\n",
    "(\"matrix time\"). Time is just a number!\n",
    "- The timing resolution is arbitrary. We can easily track time periods of both\n",
    "years and nanoseconds in the same simulation!\n",
    "\n",
    "To drive home the first point, let's do a bit of benchmarking."
   ]
  },
  {
   "cell_type": "markdown",
   "metadata": {},
   "source": [
    "Make a simple timer process."
   ]
  },
  {
   "cell_type": "code",
   "execution_count": null,
   "metadata": {},
   "outputs": [],
   "source": [
    "@resumable function timer(env::Environment, time)\n",
    "    @yield timeout(env, time)\n",
    "end"
   ]
  },
  {
   "cell_type": "markdown",
   "metadata": {},
   "source": [
    "Measure the computational time associated with a certain amount of matrix time."
   ]
  },
  {
   "cell_type": "code",
   "execution_count": null,
   "metadata": {},
   "outputs": [],
   "source": [
    "function time_the_timer(matrix_time)\n",
    "    sim = Simulation()\n",
    "    process = @process timer(sim, matrix_time)\n",
    "    computation_time = @elapsed run(sim, process)\n",
    "    computation_time\n",
    "end"
   ]
  },
  {
   "cell_type": "markdown",
   "metadata": {},
   "source": [
    "Function to gather statistics for that"
   ]
  },
  {
   "cell_type": "code",
   "execution_count": null,
   "metadata": {},
   "outputs": [],
   "source": [
    "l = 100\n",
    "function benchmark_simulation(num_samples)\n",
    "    matrix_times = logrange(1E-10, 1E10, l)\n",
    "    computation_times = [[time_the_timer(t) for _ in 1:num_samples] for t in matrix_times]\n",
    "    computation_time_means = mean.(computation_times)\n",
    "    computation_time_errors = std.(computation_times) / sqrt(num_samples)\n",
    "    matrix_times, computation_time_means, computation_time_errors\n",
    "end"
   ]
  },
  {
   "cell_type": "markdown",
   "metadata": {},
   "source": [
    "Force compilation to make the results more reliable"
   ]
  },
  {
   "cell_type": "code",
   "execution_count": null,
   "metadata": {},
   "outputs": [],
   "source": [
    "benchmark_simulation(1)"
   ]
  },
  {
   "cell_type": "markdown",
   "metadata": {},
   "source": [
    "Gather some data"
   ]
  },
  {
   "cell_type": "code",
   "execution_count": null,
   "metadata": {},
   "outputs": [],
   "source": [
    "matrix_times, computation_time_means, computation_time_errors = benchmark_simulation(100)"
   ]
  },
  {
   "cell_type": "markdown",
   "metadata": {},
   "source": [
    "Let's inspect!"
   ]
  },
  {
   "cell_type": "code",
   "execution_count": null,
   "metadata": {},
   "outputs": [],
   "source": [
    "using Plots\n",
    "plot(matrix_times, computation_time_means, ribbon=computation_time_errors)\n",
    "plot!(xaxis=:log10, yaxis=:log10, xlabel=\"Matrix Time\", ylabel=\"Runtime (seconds)\",\n",
    "    legend=false)"
   ]
  },
  {
   "cell_type": "markdown",
   "metadata": {},
   "source": [
    "# Interactions: ping-pong\n",
    "To make a simulation that is actually useful, we need to have multiple autonomous\n",
    "processes that interact with each other, resulting in some emergent dynamics.\n",
    "One way to make processes interact is by having them \"interrupt\" each other.\n",
    "Let's see how we can use that to play ping pong!"
   ]
  },
  {
   "cell_type": "markdown",
   "metadata": {},
   "source": [
    "A ping-pong player waits until it receives a message, adds its favorite word to the\n",
    "message, prints it for us, and then sends it back to its partner one time step later."
   ]
  },
  {
   "cell_type": "code",
   "execution_count": null,
   "metadata": {},
   "outputs": [],
   "source": [
    "@resumable function ping_pong_player(env::Environment, favorite_word, partner=nothing)\n",
    "    while true\n",
    "        accumulated_message = favorite_word   # the message to be printed\n",
    "        try\n",
    "            @yield timeout(env, Inf)  # wait until interrupted\n",
    "        catch e\n",
    "            isnothing(partner) && (partner = e.by)  # set partner if not set yet\n",
    "\n",
    "            isnothing(e.cause) || (accumulated_message = e.cause * favorite_word)\n",
    "        end\n",
    "        println(\"$(now(env)): $accumulated_message\")\n",
    "        @yield timeout(env, 1)\n",
    "        @yield interrupt(partner, accumulated_message)\n",
    "    end\n",
    "end"
   ]
  },
  {
   "cell_type": "markdown",
   "metadata": {},
   "source": [
    "At first all ping-pong players are waiting:\n",
    "we need outside interference to start the game!"
   ]
  },
  {
   "cell_type": "code",
   "execution_count": null,
   "metadata": {},
   "outputs": [],
   "source": [
    "@resumable function start_sim(env::Environment, start_player::Process)\n",
    "    @yield interrupt(start_player)\n",
    "end"
   ]
  },
  {
   "cell_type": "markdown",
   "metadata": {},
   "source": [
    "Set up the simulation"
   ]
  },
  {
   "cell_type": "code",
   "execution_count": null,
   "metadata": {},
   "outputs": [],
   "source": [
    "sim = Simulation()\n",
    "bob = @process ping_pong_player(sim, \" Pong! \")\n",
    "alice = @process ping_pong_player(sim, \" Ping! \", bob)\n",
    "starter = @process start_sim(sim, alice)"
   ]
  },
  {
   "cell_type": "markdown",
   "metadata": {},
   "source": [
    "Let's play!"
   ]
  },
  {
   "cell_type": "code",
   "execution_count": null,
   "metadata": {},
   "outputs": [],
   "source": [
    "number_of_steps = 10\n",
    "run(sim, number_of_steps)"
   ]
  },
  {
   "cell_type": "markdown",
   "metadata": {},
   "source": [
    "# Resource Sharing: Shovels"
   ]
  },
  {
   "cell_type": "markdown",
   "metadata": {},
   "source": [
    "Discrete event simulation really shines in modeling multiple agents that need to share\n",
    "some scarce resources. ConcurrentSim.jl has a built-in Resource type to help with that\n",
    "(and other similar types, for example Store).\n",
    "Let's look at a simple example!"
   ]
  },
  {
   "cell_type": "markdown",
   "metadata": {},
   "source": [
    "Imagine a group of people want to dig a really deep hole in the beach, but there\n",
    "are not enough shovels for everyone. Moreover, shoveling is hard work, and after spending\n",
    "some time shoveling, the workers need to rest for a while and go for a swim.\n",
    "How much shoveling can they do in a given time period?"
   ]
  },
  {
   "cell_type": "markdown",
   "metadata": {},
   "source": [
    "We define a Beach structure where we collect state information."
   ]
  },
  {
   "cell_type": "code",
   "execution_count": null,
   "metadata": {},
   "outputs": [],
   "source": [
    "mutable struct Beach\n",
    "    env::Environment\n",
    "    shovels::Resource\n",
    "    amount_shoveled::Float64\n",
    "    function Beach(env::Environment, shovels::Resource)\n",
    "        new(env, shovels, 0)\n",
    "    end\n",
    "end"
   ]
  },
  {
   "cell_type": "markdown",
   "metadata": {},
   "source": [
    "Shovelers try to get a shovel, work for some time, and then rest for some time,\n",
    "until they try to get a shovel again."
   ]
  },
  {
   "cell_type": "code",
   "execution_count": null,
   "metadata": {},
   "outputs": [],
   "source": [
    "rand_rest = () -> rand()*rand_rest_max\n",
    "rand_rest_max = 50\n",
    "@resumable function shoveler(env::Environment, beach::Beach, work_time, rest_time)\n",
    "    while true\n",
    "        @yield get(beach.shovels, 1)  # get a shovel or wait until one is available\n",
    "        @yield timeout(env, work_time)  # work for some time\n",
    "        beach.amount_shoveled += work_time  # Done! Shoveled one \"sand unit\" per time unit.\n",
    "        @yield put!(beach.shovels, 1)  # return the shovel\n",
    "        @yield timeout(env, rest_time + rand_rest())  # time to take a rest!\n",
    "    end\n",
    "end"
   ]
  },
  {
   "cell_type": "markdown",
   "metadata": {},
   "source": [
    "We now wrap the entire simulation into a function. The function runs the simulation for\n",
    "a given amount of time, and then returns the total amount of sand shoveled."
   ]
  },
  {
   "cell_type": "code",
   "execution_count": null,
   "metadata": {},
   "outputs": [],
   "source": [
    "function amount_shoveled_after_time(time, num_shovels, num_shovelers,\n",
    "        amount_work_time, amount_rest_time)\n",
    "    sim = Simulation()\n",
    "    shovels = Resource(sim, num_shovels; level=num_shovels)\n",
    "    beach = Beach(sim, shovels)\n",
    "    shovelers = [@process shoveler(sim, beach, amount_work_time, amount_rest_time)\n",
    "        for _ in 1:num_shovelers]\n",
    "    run(sim, time)\n",
    "    beach.amount_shoveled\n",
    "end"
   ]
  },
  {
   "cell_type": "markdown",
   "metadata": {},
   "source": [
    "Let's see how the amount of sand shoveled in 1000 time units depends on the number of\n",
    "shovelers! How many shovelers do we need until the shovels become the limiting factor?"
   ]
  },
  {
   "cell_type": "code",
   "execution_count": null,
   "metadata": {},
   "outputs": [],
   "source": [
    "num_shovels = 10\n",
    "amount_work_time = 5\n",
    "amount_rest_time = 5\n",
    "\n",
    "num_shovelers = 1:70\n",
    "amt = 100\n",
    "amounts = [amount_shoveled_after_time(amt, num_shovels, n, amount_work_time,\n",
    "    amount_rest_time) for n in num_shovelers]\n",
    "\n",
    "plot(num_shovelers, amounts, xlabel=\"Number of Shovelers\", ylabel=\"Amount Shoveled\",\n",
    "    title=\"Amount Shoveled After $amt Time Units\")"
   ]
  },
  {
   "cell_type": "markdown",
   "metadata": {},
   "source": [
    "# Going Shopping\n",
    "There's another useful built-in resource type: Store.\n",
    "It is a resource that doesn't just hold a pile of some anonymous resource,\n",
    "but that instead holds a collection of specific items that can be retrieved.\n",
    "As an example, let's model some shoppers that go to WholeFoods to buy fruits."
   ]
  },
  {
   "cell_type": "markdown",
   "metadata": {},
   "source": [
    "We model two types of fruit being sold."
   ]
  },
  {
   "cell_type": "code",
   "execution_count": null,
   "metadata": {},
   "outputs": [],
   "source": [
    "abstract type Fruit end\n",
    "struct Apple <: Fruit end\n",
    "struct Orange <: Fruit end"
   ]
  },
  {
   "cell_type": "markdown",
   "metadata": {},
   "source": [
    "Shoppers arrive at the store when they get hungry to buy their favorite fruit,\n",
    "and hang around in case it is out of stock."
   ]
  },
  {
   "cell_type": "code",
   "execution_count": null,
   "metadata": {},
   "outputs": [],
   "source": [
    "@resumable function shopper(env::Environment,\n",
    "        accepted_fruits::Function,  # filter function: return true for acceptable fruits\n",
    "        store::Store{Fruit}, snack_time)\n",
    "    while true\n",
    "        arrival_time = rand(Normal(snack_time))  # when they get hungry is slightly random\n",
    "        @yield timeout(env, arrival_time)\n",
    "        println(\"$(round(now(env), sigdigits=2)): \\\n",
    "            customer $(active_process(env)) arrived at the store.\")\n",
    "        purchase = get(store, accepted_fruits)\n",
    "        @yield purchase  # wait until an acceptable fruit is available\n",
    "        fruit = value(purchase)  # the retrieved item is the value of the event\n",
    "        println(\"$(round(now(env), sigdigits=2)): customer $(active_process(env)) bought \\\n",
    "            an $(fruit isa Apple ? \"apple 🍎\" : \"orange 🍊 \").\")\n",
    "    end\n",
    "end"
   ]
  },
  {
   "cell_type": "markdown",
   "metadata": {},
   "source": [
    "There are also suppliers that periodically deliver a batch of fruit."
   ]
  },
  {
   "cell_type": "code",
   "execution_count": null,
   "metadata": {},
   "outputs": [],
   "source": [
    "@resumable function supplier(env::Environment, fruit::Fruit, store::Store{Fruit},\n",
    "        supply_amount, supply_time)\n",
    "    while true\n",
    "        arrival_time = rand(Normal(supply_time))\n",
    "        @yield timeout(env, arrival_time)\n",
    "        for _ in 1:supply_amount # deliver supply\n",
    "            @yield put!(store, fruit)\n",
    "        end\n",
    "        println(\"$(round(now(env), sigdigits=2)): supplier $(active_process(env)) \\\n",
    "            delivered $supply_amount $(fruit isa Apple ? \"apples\" : \"oranges\").\")\n",
    "    end\n",
    "end"
   ]
  },
  {
   "cell_type": "markdown",
   "metadata": {},
   "source": [
    "Let's configure some customers and suppliers and see what happens!"
   ]
  },
  {
   "cell_type": "markdown",
   "metadata": {},
   "source": [
    "---\n",
    "\n",
    "*This notebook was generated using [Literate.jl](https://github.com/fredrikekre/Literate.jl).*"
   ]
  }
 ],
 "metadata": {
  "kernelspec": {
   "display_name": "Julia 1.11.3",
   "language": "julia",
   "name": "julia-1.11"
  },
  "language_info": {
   "file_extension": ".jl",
   "mimetype": "application/julia",
   "name": "julia",
   "version": "1.11.6"
  }
 },
 "nbformat": 4,
 "nbformat_minor": 3
}
