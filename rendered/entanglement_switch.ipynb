{
 "cells": [
  {
   "cell_type": "code",
   "execution_count": null,
   "metadata": {},
   "outputs": [
    {
     "ename": "",
     "evalue": "",
     "output_type": "error",
     "traceback": [
      "\u001b[1;31mFailed to start the Kernel. \n",
      "\u001b[1;31mView Jupyter <a href='command:jupyter.viewOutput'>log</a> for further details."
     ]
    }
   ],
   "source": [
    "using ResumableFunctions, ConcurrentSim, Plots, Random, Distributions"
   ]
  },
  {
   "cell_type": "markdown",
   "metadata": {},
   "source": [
    "# Entanglement Switch"
   ]
  },
  {
   "cell_type": "markdown",
   "metadata": {},
   "source": [
    "An entanglement swtich is a node in a quantum network that creates entanglement with\n",
    "some end nodes, and then performs measurements on its entangled qubits to create\n",
    "entanglement between the end nodes (a process we will refer to as \"entanglement swapping\",\n",
    "slightly abusing terminology).\n",
    "Creating and storing entanglement between the switch and end nodes requires a qubit,\n",
    "and the switch only has a limited number of qubits.\n",
    "\n",
    "We model the switch using a structure that tracks available qubits and entanglement.\n",
    "Moreover, we track \"entanglement tickets\": we allow a process to claim such a ticket,\n",
    "which gives it ownership of a particular entangled state.\n",
    "This allows it to claim entanglement before the process is actually ready to consume it\n",
    "through entanglement swapping.\n",
    "\n",
    "We will simulate the dynamics of entanglement being consumed according to swapping\n",
    "requests, which are made by the end nodes over the course of the simulation.\n",
    "We give the switch fields to track how many requests are currently open and how many have\n",
    "been fulfilled in total."
   ]
  },
  {
   "cell_type": "code",
   "execution_count": null,
   "metadata": {},
   "outputs": [],
   "source": [
    "mutable struct EntanglementSwitch\n",
    "    env::Environment\n",
    "    qubits::Resource\n",
    "    entanglements::Vector{Int}\n",
    "    entanglement_tickets::Store{Int}\n",
    "    num_open_requests::Int\n",
    "    num_fulfilled_requests::Int\n",
    "    \"\"\"\n",
    "    we use an inner constructor: you only need to provide the environment and the number\n",
    "    of qubits when creating a new switch instance.\n",
    "    \"\"\"\n",
    "    function EntanglementSwitch(env::Environment, num_qubits::Int)\n",
    "        new(env, Resource(env, num_qubits, level=num_qubits), Int[],\n",
    "            Store{Int}(env; capacity=num_qubits), 0, 0)\n",
    "    end\n",
    "end"
   ]
  },
  {
   "cell_type": "markdown",
   "metadata": {},
   "source": [
    "We will have independent processes that create and consume entanglement, and will study\n",
    "the emergent dynamics of the switch.\n",
    "An entangler process continuously tries to claim qubits and use them to create\n",
    "entanglement with one particular end node.\n",
    "Trying to entangling a qubit with an end node takes one time step,\n",
    "but it is hard and only succeeds with a small probability.\n",
    "Therefore, the amount of time until success is geometrically distributed."
   ]
  },
  {
   "cell_type": "code",
   "execution_count": null,
   "metadata": {},
   "outputs": [],
   "source": [
    "ent_success_times = []\n",
    "max_wait_timeout = 20\n",
    "max_open_requests = 100\n",
    "\n",
    "# function throwaway!(wait_timeout,open_req_wait,switch) \n",
    "#     # throw it all away hack\n",
    "#     # println(\"throwing away ent\")\n",
    "#     switch.entanglements = []\n",
    "#     switch.qubits.level = switch.qubits.capacity\n",
    "#     wait_timeout = 0\n",
    "#     open_req_wait = 0\n",
    "# end\n",
    "wait_timeout = 0\n",
    "\n",
    "@resumable function entangler(env::Environment, switch::EntanglementSwitch,\n",
    "        success_probability::Float64, end_node::Int)\n",
    "    \n",
    "    global wait_timeout = 0\n",
    "    # open_req_wait = 0\n",
    "\n",
    "    while true\n",
    "        # reset the open_req_wait if requests are under the threshold\n",
    "        # if env.num_open_requests <= max_open_requests\n",
    "        #     open_req_wait = 0\n",
    "        #     wait_timeout = 0\n",
    "        # end\n",
    "        if (switch.qubits.level == 0)\n",
    "            # check if requests are piling up\n",
    "            # if env.num_open_requests > max_open_requests\n",
    "            #     # Too many requests at max level\n",
    "            #     # wait for this case a few times before doing anything\n",
    "            #     if open_req_wait > max_open_requests_wait\n",
    "            #         # Ok fine now throw away\n",
    "            #         throwaway!(wait_timeout,open_req_wait,switch)\n",
    "            #     else\n",
    "            #         open_req_wait += 1\n",
    "            #     end\n",
    "            # # requests might not be maxing, but the wait may be max\n",
    "            if (wait_timeout > max_wait_timeout) || (switch.num_open_requests > max_open_requests) #normal wait times (longer time untill throwaway)\n",
    "                # throwaway!(wait_timeout,open_req_wait,switch)\n",
    "                    # throw it all away hack\n",
    "                # println(\"throwing away ent\")\n",
    "                switch.entanglements = []\n",
    "                switch.qubits.level = switch.qubits.capacity\n",
    "                wait_timeout = 0\n",
    "            else\n",
    "                # increment the timeout \n",
    "                wait_timeout += 1\n",
    "            end\n",
    "        else \n",
    "            @yield get(switch.qubits, 1)\n",
    "            duration = rand(Geometric(success_probability)) + 1\n",
    "            @yield timeout(env, duration)\n",
    "            # println(\"$(now(env)): entanglement $end_node created\")\n",
    "            push!(switch.entanglements, end_node)\n",
    "            put!(switch.entanglement_tickets, end_node)\n",
    "            push!(ent_success_times,duration)\n",
    "            # println(\"Entanglement: $(switch.entanglements)\")\n",
    "        end\n",
    "    end\n",
    "end"
   ]
  },
  {
   "cell_type": "markdown",
   "metadata": {},
   "source": [
    "A request fulfiller takes one specific swapping request and becomes resonsible for\n",
    "fulfilling it. It claims entanglement tickets corresponding to the end nodes\n",
    "that want to be entanglement, and performs the swap once all relevant tickets\n",
    "are obtained."
   ]
  },
  {
   "cell_type": "code",
   "execution_count": null,
   "metadata": {},
   "outputs": [],
   "source": [
    "@resumable function request_fulfiller(env::Environment, switch::EntanglementSwitch,\n",
    "        request::Vector{Int})\n",
    "    # println(\"Request: $request\")\n",
    "    switch.num_open_requests += 1\n",
    "\n",
    "    entanglement_tickets =\n",
    "        [get(switch.entanglement_tickets, isequal(i)) for i in request]\n",
    "    @yield AllOf(entanglement_tickets...)\n",
    "    for end_node in request  # consume the entanglement it holds tickets for\n",
    "        if !isnothing(findfirst(isequal(end_node), switch.entanglements))\n",
    "        deleteat!(switch.entanglements,\n",
    "            findfirst(isequal(end_node), switch.entanglements))\n",
    "        end\n",
    "    end\n",
    "    put!(switch.qubits, length(request)) # release the qubits that held the entangled states\n",
    "    switch.num_open_requests -= 1 # log that we have successfully fulfilled the request\n",
    "    switch.num_fulfilled_requests += 1\n",
    "end"
   ]
  },
  {
   "cell_type": "markdown",
   "metadata": {},
   "source": [
    "Finally, there we make a requester process that randomly generates and issues requests."
   ]
  },
  {
   "cell_type": "code",
   "execution_count": null,
   "metadata": {},
   "outputs": [],
   "source": [
    "@resumable function requester(env::Environment, switch::EntanglementSwitch,\n",
    "        num_end_nodes_total, num_end_nodes_per_request, request_rate)\n",
    "    # println(\"requester num_end_nodes_total:$num_end_nodes_total, num_end_nodes_per_request:$num_end_nodes_per_request, request_rate:$request_rate\")\n",
    "    distribution = Exponential(1 / request_rate)\n",
    "    while true\n",
    "        if switch.num_open_requests > 10000\n",
    "            throw(\"Too many open requests at time $(now(env)), unstable system!\")\n",
    "        end\n",
    "        @yield timeout(env, rand(distribution))\n",
    "        request = randperm(num_end_nodes_total)[1:num_end_nodes_per_request]\n",
    "        # println(\"$(now(env)): new request $request\")\n",
    "        @process request_fulfiller(env, switch, request)\n",
    "    end\n",
    "end"
   ]
  },
  {
   "cell_type": "markdown",
   "metadata": {},
   "source": [
    "Let's set up some parameters and run the simulation!"
   ]
  },
  {
   "cell_type": "markdown",
   "metadata": {},
   "source": [
    "set up parameters"
   ]
  },
  {
   "cell_type": "code",
   "execution_count": null,
   "metadata": {},
   "outputs": [],
   "source": [
    "num_communication_qubits = 8\n",
    "num_end_nodes = 3\n",
    "request_rates = [0.05, 0.01]  # entanglement between 2, 3, ... end nodes\n",
    "success_probabilities = [0.1, 0.1, 0.1] "
   ]
  },
  {
   "cell_type": "markdown",
   "metadata": {},
   "source": [
    "initialize the simulation"
   ]
  },
  {
   "cell_type": "code",
   "execution_count": null,
   "metadata": {},
   "outputs": [],
   "source": [
    "sim = Simulation()\n",
    "switch = EntanglementSwitch(sim, num_communication_qubits)\n",
    "[@process requester(sim, switch, num_end_nodes, i + 1, request_rates[i])\n",
    "    for i in eachindex(request_rates)]\n",
    "[@process entangler(sim, switch, success_probabilities[i], i) for i in 1:num_end_nodes]"
   ]
  },
  {
   "cell_type": "markdown",
   "metadata": {},
   "source": [
    "run it!"
   ]
  },
  {
   "cell_type": "code",
   "execution_count": null,
   "metadata": {},
   "outputs": [],
   "source": [
    "open_reqs = []\n",
    "fulfilled_reqs = []\n",
    "qubits = []\n",
    "# max_time = 10000\n",
    "# max_time = 1000\n",
    "max_time = 500\n",
    "ts = 1:10:max_time\n",
    "wait_timeouts = []\n",
    "t_print = 100\n",
    "for t in ts\n",
    "    (t % t_print == 0 || t == 1 || t == 2 ) && println(\"t: $t\")\n",
    "    push!(wait_timeouts,wait_timeout)\n",
    "    push!(qubits,switch.qubits.level)\n",
    "    push!(open_reqs, switch.num_open_requests)\n",
    "    push!(fulfilled_reqs, switch.num_fulfilled_requests)\n",
    "    \n",
    "    run(sim, t)\n",
    "end\n"
   ]
  },
  {
   "cell_type": "markdown",
   "metadata": {},
   "source": [
    "Visualize how the number of open and fulfilled requests changes over time."
   ]
  },
  {
   "cell_type": "code",
   "execution_count": null,
   "metadata": {},
   "outputs": [],
   "source": [
    "plot(ts, fulfilled_reqs, label=\"Fulfilled Requests\", xlabel=\"Simulation Step\",\n",
    "    ylabel=\"Number of Requests\")\n",
    "plot!(ts, open_reqs, label=\"Open Requests\", xlabel=\"Simulation Step\")\n",
    "plot!([0,max_time],[max_open_requests,max_open_requests],label=\"Max open requests without qubits available\")\n",
    "plot!(ts,wait_timeouts,label=\"Wait timeout counter\")\n",
    "plot!([0,max_time],[max_wait_timeout,max_wait_timeout],label=\"Max open wait timeouts\")\n",
    "\n"
   ]
  },
  {
   "cell_type": "code",
   "execution_count": null,
   "metadata": {},
   "outputs": [],
   "source": [
    "# Same thing without fulfulled requests\n",
    "plot(ts, open_reqs, label=\"Open Requests\", xlabel=\"Simulation Step\")\n",
    "plot!([0,max_time],[max_open_requests,max_open_requests],label=\"Max open requests without qubits available\")\n",
    "plot!(ts,wait_timeouts,label=\"Wait timeout counter\")\n",
    "plot!([0,max_time],[max_wait_timeout,max_wait_timeout],label=\"Max open wait timeouts\")\n"
   ]
  },
  {
   "cell_type": "code",
   "execution_count": null,
   "metadata": {},
   "outputs": [],
   "source": [
    "plot(ts, qubits, label=\"qubits\", xlabel=\"Simulation Step\")"
   ]
  },
  {
   "cell_type": "code",
   "execution_count": null,
   "metadata": {},
   "outputs": [],
   "source": [
    "# Plot the ent. times \n",
    "# histogram(ent_success_times, label=\"Time to make entanglement\", xlabel=\"Duration time units\",bins=0:2:60)"
   ]
  },
  {
   "cell_type": "markdown",
   "metadata": {},
   "source": [
    "What is going wrong?\n",
    "Do you have ideas how to fix it?"
   ]
  },
  {
   "cell_type": "markdown",
   "metadata": {},
   "source": [
    "---\n",
    "\n",
    "*This notebook was generated using [Literate.jl](https://github.com/fredrikekre/Literate.jl).*"
   ]
  }
 ],
 "metadata": {
  "kernelspec": {
   "display_name": "Julia 1.11.3",
   "language": "julia",
   "name": "julia-1.11"
  },
  "language_info": {
   "file_extension": ".jl",
   "mimetype": "application/julia",
   "name": "julia",
   "version": "1.11.6"
  }
 },
 "nbformat": 4,
 "nbformat_minor": 3
}
